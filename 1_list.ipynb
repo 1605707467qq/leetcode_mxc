{
 "cells": [
  {
   "attachments": {},
   "cell_type": "markdown",
   "metadata": {},
   "source": [
    "# 数组1-最短字符串"
   ]
  },
  {
   "cell_type": "code",
   "execution_count": 6,
   "metadata": {},
   "outputs": [],
   "source": [
    "import copy\n",
    "\n",
    "def minWindow(s: str, t: str) -> str:\n",
    "    def str_num(s_:str) -> dict:\n",
    "        set_ = set(s_)\n",
    "        dict_ = {}\n",
    "        for i in s_:\n",
    "            a = dict_.get(i,0)\n",
    "            if a ==0:\n",
    "                dict_[i] = 1\n",
    "            else:\n",
    "                dict_[i] = dict_[i]+1\n",
    "        return dict_\n",
    "    # 保持最左面和最右面都是我们的字符\n",
    "    # 其余字符要出现在中间\n",
    "    \n",
    "    dict_t = str_num(t)\n",
    "    dict_t_test=copy.deepcopy(dict_t)\n",
    "    dic_keys = list(dict_t_test.keys())\n",
    "    for i in s:\n",
    "        if i in dic_keys:\n",
    "            dict_t_test[i]-=1\n",
    "    for i in list(dict_t_test.values()):\n",
    "        if i>0:\n",
    "            return ''\n",
    "    dict_t_count = copy.deepcopy(dict_t)\n",
    "    set_t = set(t)\n",
    "    left = 0\n",
    "    result_ = '0'*100001\n",
    "    key = '0'*100001\n",
    "    right =0\n",
    "    while right<len(s):\n",
    "        # 向右找全\n",
    "        m=dict_t_count.values()\n",
    "        while max(m)!=0 and right<len(s):\n",
    "            m=dict_t_count.values()\n",
    "            if s[right] in t:\n",
    "                dict_t_count[s[right]]-=1\n",
    "            right+=1\n",
    "                # 直到左面在目标串中\n",
    "        # 向左对齐照最短\n",
    "\n",
    "        while s[left] not in t or dict_t_count[s[left]]<0:\n",
    "            if s[left] in t:\n",
    "                dict_t_count[s[left]] =dict_t_count[s[left]]+1\n",
    "            left +=1 \n",
    "\n",
    "        if max(list(dict_t_count.values()))<=0:\n",
    "            key = s[left:right]\n",
    "        if len(key)<len(result_):\n",
    "            result_ = key\n",
    "\n",
    "        dict_t_count[s[left]]+=1\n",
    "        left+=1\n",
    "        # right+=1\n",
    "    m = dict_t_count.values()\n",
    "    m_list = list(m)\n",
    "    m_list = [i for i in m_list if i>=0]\n",
    "    if sum(m_list)>=0:\n",
    "        return result_\n",
    "\n"
   ]
  },
  {
   "cell_type": "code",
   "execution_count": 7,
   "metadata": {},
   "outputs": [
    {
     "data": {
      "text/plain": [
       "'dbaa'"
      ]
     },
     "execution_count": 7,
     "metadata": {},
     "output_type": "execute_result"
    }
   ],
   "source": [
    "s = \"acbdbaab\"\n",
    "t = \"aabd\"\n",
    "a = minWindow(s,t)\n",
    "a"
   ]
  },
  {
   "attachments": {},
   "cell_type": "markdown",
   "metadata": {},
   "source": [
    "## 最长递增字串\n",
    "给定一个未经排序的整数数组，找到最长且 连续递增的子序列，并返回该序列的长度。\n",
    "\n"
   ]
  },
  {
   "cell_type": "code",
   "execution_count": 1,
   "metadata": {},
   "outputs": [],
   "source": []
  },
  {
   "cell_type": "code",
   "execution_count": 5,
   "metadata": {},
   "outputs": [
    {
     "data": {
      "text/plain": [
       "'5555555'"
      ]
     },
     "execution_count": 5,
     "metadata": {},
     "output_type": "execute_result"
    }
   ],
   "source": [
    "def get_max_up_sub(s):\n",
    "    ans = ''\n",
    "    left,right = 0,1\n",
    "    while left <len(s) and right<len(s):\n",
    "        if int(s[right])>=int(s[right-1]):\n",
    "            right +=1\n",
    "            sub = s[left:right]\n",
    "            if right-left>len(ans):\n",
    "                ans = sub\n",
    "\n",
    "        else:\n",
    "            left=right\n",
    "            right +=1\n",
    "    return ans\n",
    "s = '18202555059'\n",
    "s = '5555555'\n",
    "get_max_up_sub(s)"
   ]
  },
  {
   "attachments": {},
   "cell_type": "markdown",
   "metadata": {},
   "source": [
    "# 数组2-打印转圈数组\n",
    "\n",
    "需要按照**固定**规则来遍历"
   ]
  },
  {
   "cell_type": "code",
   "execution_count": 22,
   "metadata": {},
   "outputs": [
    {
     "name": "stdout",
     "output_type": "stream",
     "text": [
      "0 0\n",
      "0 1\n",
      "0 2\n",
      "0 3\n",
      "1 3\n",
      "2 3\n",
      "3 3\n",
      "3 2\n",
      "3 1\n",
      "3 0\n",
      "2 0\n",
      "1 0\n",
      "1 1\n",
      "1 2\n",
      "2 2\n",
      "2 1\n"
     ]
    },
    {
     "data": {
      "text/plain": [
       "[[1, 2, 3, 4], [12, 13, 14, 5], [11, 16, 15, 6], [10, 9, 8, 7]]"
      ]
     },
     "execution_count": 22,
     "metadata": {},
     "output_type": "execute_result"
    }
   ],
   "source": [
    "def generateMatrix(n: int) -> list:\n",
    "    result = [[0 for i in range(n)] for i in range(n)]\n",
    "    # n-2**(loop-1)\n",
    "    loop = int(n/2)\n",
    "    k = 0\n",
    "    start_i,start_j = 0,0\n",
    "    if n%2 !=0:\n",
    "        result[loop][loop]=n**2\n",
    "    while loop>0:\n",
    "        length = n-2*(int(n/2)-loop)-1\n",
    "        # 左向右\n",
    "        i,j= 0,0\n",
    "        for j in range(length):\n",
    "            print(start_i+i,start_j+j)\n",
    "            k+=1\n",
    "            result[start_i+i][start_j+j] = k\n",
    "        j+=1\n",
    "        # 上向下🤔\n",
    "        for i in range(length):\n",
    "            k+=1\n",
    "            print(start_i+i,start_j+j)\n",
    "            result[start_i+i][start_j+j] = k\n",
    "        i+=1\n",
    "        # 右向左\n",
    "        for j in range(1,length+1)[::-1]:\n",
    "            k+=1\n",
    "            print(start_i+i,start_j+j)\n",
    "            result[start_i+i][start_j+j] = k  \n",
    "        j-=1\n",
    "        # 右向上\n",
    "        for i in range(1,length+1)[::-1]:\n",
    "            k+=1\n",
    "            print(start_i+i,start_j+j)\n",
    "            result[start_i+i][start_j+j] = k  \n",
    "\n",
    "        loop -= 1  \n",
    "        start_i+=1\n",
    "        start_j+=1\n",
    "\n",
    "    return result\n",
    "generateMatrix(4)  "
   ]
  },
  {
   "cell_type": "code",
   "execution_count": null,
   "metadata": {},
   "outputs": [],
   "source": []
  }
 ],
 "metadata": {
  "kernelspec": {
   "display_name": "mengxc",
   "language": "python",
   "name": "python3"
  },
  "language_info": {
   "codemirror_mode": {
    "name": "ipython",
    "version": 3
   },
   "file_extension": ".py",
   "mimetype": "text/x-python",
   "name": "python",
   "nbconvert_exporter": "python",
   "pygments_lexer": "ipython3",
   "version": "3.9.17"
  },
  "orig_nbformat": 4,
  "vscode": {
   "interpreter": {
    "hash": "237a8e957531186922a7291d643b6ae4a6ac5d6ec607c8097672c724033f84ca"
   }
  }
 },
 "nbformat": 4,
 "nbformat_minor": 2
}
