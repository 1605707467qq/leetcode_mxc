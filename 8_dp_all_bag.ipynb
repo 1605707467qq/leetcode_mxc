{
 "cells": [
  {
   "attachments": {},
   "cell_type": "markdown",
   "metadata": {},
   "source": [
    "# 动态规划——完全背包"
   ]
  },
  {
   "attachments": {},
   "cell_type": "markdown",
   "metadata": {},
   "source": [
    "## 动规5步曲\n",
    "1. 确定dp数组（dp table）及其下标含义\n",
    "2. 确定递推公式\n",
    "3. 初始化递推数组\n",
    "4. 确定遍历顺序\n",
    "5. 举例推导dp数组"
   ]
  },
  {
   "attachments": {},
   "cell_type": "markdown",
   "metadata": {},
   "source": [
    "# 518. 零钱兑换 II\n",
    "\n",
    "给你一个整数数组 coins 表示不同面额的硬币，另给一个整数 amount 表示总金额。\n",
    "\n",
    "请你计算并返回可以凑成总金额的硬币组合数。如果任何硬币组合都无法凑出总金额，返回 0 。\n",
    "\n",
    "假设每一种面额的硬币有无限个。 \n",
    "\n",
    "题目数据保证结果符合 32 位带符号整数。"
   ]
  },
  {
   "attachments": {},
   "cell_type": "markdown",
   "metadata": {},
   "source": [
    "1. 确定dp数组（dp table）及其下标含义\n",
    "dp[i][j] 0-i个物品无限次选取，可以凑成总金额j的硬币组合数\n",
    "2. 确定递推公式\n",
    "当可以使用此硬币时，\n",
    "\n",
    "    dp[i][j] = dp[i-1][j]+dp[i][j-coins[i]]\n",
    "    使用次硬币：减去此硬币重量，的组合数\n",
    "    +\n",
    "    不使用用此硬币：不使用此硬币的组合数\n",
    "当不可以使用此硬币时，\n",
    "    dp[i][j] = dp[i-1][j]\n",
    "    \n",
    "3. 初始化递推数组\n",
    "dp[0][j] = 1\n",
    "4. 确定遍历顺序\n",
    "先遍历硬币再遍历背包\n",
    "5. 举例推导dp数组\n",
    "amount = 5, coins = [1, 2, 5]\n",
    "[     0, 1, 2, 3, 4, 5\n",
    "    1[1, 1, 1, 1, 1, 1]\n",
    "    2[1, 1, 2, 2, 2, 2]\n",
    "    5[1, 1, 2, 2, 4, 4]\n",
    "]\n",
    "amount = 5, coins = [2, 5]\n",
    "[     0, 1, 2, 3, 4, 5\n",
    "    2[1, 0, 1, 0, 1, 0]\n",
    "    5[1, 0, 1, 0, 1, 1]\n",
    "]"
   ]
  },
  {
   "cell_type": "code",
   "execution_count": 30,
   "metadata": {},
   "outputs": [
    {
     "name": "stdout",
     "output_type": "stream",
     "text": [
      "[1, 1, 1, 1, 1, 1]\n",
      "[1, 1, 2, 2, 3, 3]\n",
      "[1, 1, 2, 2, 3, 4]\n"
     ]
    },
    {
     "data": {
      "text/plain": [
       "4"
      ]
     },
     "execution_count": 30,
     "metadata": {},
     "output_type": "execute_result"
    }
   ],
   "source": [
    "class Solution(object):\n",
    "    def change(self, amount, coins):\n",
    "        m = len(coins)\n",
    "        n = amount\n",
    "        dp = [[0 for i in range(n+1)] for j in range(m)]\n",
    "        for i in range(n+1):\n",
    "            if i%coins[0]==0:\n",
    "                dp[0][i] = 1\n",
    "        for i in range(m):\n",
    "            dp[i][0] = 1\n",
    "        for i in range(1,m):\n",
    "            for j in range(1,n+1):\n",
    "                if j-coins[i] >= 0:\n",
    "                    dp[i][j] = dp[i-1][j]+dp[i][j-coins[i]]\n",
    "                else:\n",
    "                    dp[i][j] = dp[i-1][j]\n",
    "        for i in dp:\n",
    "            print(i)\n",
    "        return (dp[-1][-1])\n",
    "Solution().change(amount = 5, coins = [1, 2, 5])"
   ]
  },
  {
   "attachments": {},
   "cell_type": "markdown",
   "metadata": {},
   "source": [
    "# 377. 组合总和 Ⅳ\n",
    "\n",
    "给你一个由 不同 整数组成的数组 nums ，和一个目标整数 target 。请你从 nums 中找出并返回总和为 target 的元素组合的个数。\n",
    "\n",
    "题目数据保证答案符合 32 位整数范围。"
   ]
  },
  {
   "attachments": {},
   "cell_type": "markdown",
   "metadata": {},
   "source": [
    "## 动规5步曲\n",
    "1. 确定dp数组（dp table）及其下标含义\n",
    "dp[i][j] 0-i的空间背包，0-j个物品，可重复，排序组合和小于i的个数\n",
    "2. 确定递推公式\n",
    "当可以使用此数值时，\n",
    "if i>=nums[j]:\n",
    "    dp[i][j] = dp[i][j-1]+dp[i-nums[j]][j-1]\n",
    "    不使用此数值：减去此物品物品种类【j-1】，在i空间内的组合数\n",
    "    +\n",
    "    不使用用此数值：使用此数值：【j】，在【i-nums【j】】空间内【j-1】的组合数\n",
    "当不可以使用此空间时，\n",
    "    dp[i][j] = dp[i][j-1]\n",
    "3. 初始化递推数组\n",
    "dp[0][i] = 1\n",
    "for i in range(target+1)\n",
    "    if i%nums[i]==0:\n",
    "        dp[j][0] = 1\n",
    "4. 确定遍历顺序\n",
    "先遍历硬币再遍历背包\n",
    "5. 举例推导dp数组\n",
    "nums = [1,2,3], target = 4\n",
    "所有可能的组合为：\n",
    "(1, 1, 1, 1)\n",
    "(1, 1, 2)\n",
    "(1, 2, 1)\n",
    "(1, 3)\n",
    "(2, 1, 1)\n",
    "(2, 2)\n",
    "(3, 1)\n",
    "[     1, 2, 3\n",
    "    0[1, 1, 1]\n",
    "    1[1, 1, 1]\n",
    "    2[1, 2, 2]\n",
    "    3[1, 3, 4]\n",
    "    4[1, 5, 7]\n",
    "]"
   ]
  },
  {
   "attachments": {},
   "cell_type": "markdown",
   "metadata": {},
   "source": [
    "## 动规5步曲\n",
    "1. 确定dp数组（dp table）及其下标含义\n",
    "dp[i]:总和为i的元素组合的个数\n",
    "2. 确定递推公式\n",
    "dp[i] += dp[i-nums[j]]\n",
    "3. 初始化递推数组\n",
    "dp[0] = 1\n",
    "4. 确定遍历顺序\n",
    "for i in range(target+1)\n",
    "    for j in range(len(nums)):\n",
    "        if i>=nums[j]:\n",
    "            dp[i]+=dp[i-nums[j]\n",
    "5. 举例推导dp数组"
   ]
  },
  {
   "cell_type": "code",
   "execution_count": 20,
   "metadata": {},
   "outputs": [
    {
     "data": {
      "text/plain": [
       "7"
      ]
     },
     "execution_count": 20,
     "metadata": {},
     "output_type": "execute_result"
    }
   ],
   "source": [
    "import copy\n",
    "class Solution(object):\n",
    "    def combinationSum4(self, nums, target):\n",
    "        dp =[0 for i in range(target+1)]\n",
    "        dp[0] = 1\n",
    "        for i in range(1,target+1):\n",
    "            for j in range(len(nums)):\n",
    "                if i-nums[j]>=0:\n",
    "                    dp[i] += dp[i-nums[j]]\n",
    "        return dp[-1]\n",
    "\n",
    "\n",
    "Solution().combinationSum4(nums = [1, 2, 3], target = 4)\n"
   ]
  },
  {
   "cell_type": "code",
   "execution_count": 23,
   "metadata": {},
   "outputs": [
    {
     "name": "stdout",
     "output_type": "stream",
     "text": [
      "[0, 1, 1, 2, 2, 1, 2, 2, 3, 3, 2, 3]\n"
     ]
    },
    {
     "data": {
      "text/plain": [
       "3"
      ]
     },
     "execution_count": 23,
     "metadata": {},
     "output_type": "execute_result"
    }
   ],
   "source": [
    "class Solution(object):\n",
    "    def coinChange(self, coins, amount):\n",
    "        dp = [100 for i in range(amount+1)]\n",
    "        dp[0] = 0\n",
    "        for i in range(len(coins)):\n",
    "            for j in range(coins[i],amount+1):\n",
    "                if dp[j-coins[i]] != 100:\n",
    "                    dp[j] = min(dp[j],dp[j-coins[i]]+1)\n",
    "        print(dp)\n",
    "        return dp[-1]\n",
    "Solution().coinChange(coins = [1, 2, 5], amount = 11)"
   ]
  },
  {
   "cell_type": "code",
   "execution_count": null,
   "metadata": {},
   "outputs": [],
   "source": []
  }
 ],
 "metadata": {
  "kernelspec": {
   "display_name": "mengxc",
   "language": "python",
   "name": "python3"
  },
  "language_info": {
   "codemirror_mode": {
    "name": "ipython",
    "version": 3
   },
   "file_extension": ".py",
   "mimetype": "text/x-python",
   "name": "python",
   "nbconvert_exporter": "python",
   "pygments_lexer": "ipython3",
   "version": "3.9.17"
  },
  "orig_nbformat": 4,
  "vscode": {
   "interpreter": {
    "hash": "237a8e957531186922a7291d643b6ae4a6ac5d6ec607c8097672c724033f84ca"
   }
  }
 },
 "nbformat": 4,
 "nbformat_minor": 2
}
