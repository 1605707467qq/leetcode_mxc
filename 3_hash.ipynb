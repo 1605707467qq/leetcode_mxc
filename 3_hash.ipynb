{
 "cells": [
  {
   "attachments": {},
   "cell_type": "markdown",
   "metadata": {},
   "source": [
    "# Python中set 和dict\n",
    "# set基础知识\n",
    "set是可变的，无序的，不重复的元素组成的可迭代的集合。\n",
    "set () 定义一个空集合。\n",
    "set(iterable)  定义一个set"
   ]
  },
  {
   "cell_type": "code",
   "execution_count": 43,
   "metadata": {},
   "outputs": [],
   "source": [
    "set1=set(range(100))"
   ]
  },
  {
   "attachments": {},
   "cell_type": "markdown",
   "metadata": {},
   "source": [
    "set中的元素必须是可hash,元素可以迭代，不可以索引。\n",
    "\n",
    "可hash的数据类型：\n",
    "\n",
    "数值型：int 、float、complex\n",
    "\n",
    "布尔型： True 、False\n",
    "\n",
    "字符串： string 、  bytes\n",
    "\n",
    "None"
   ]
  },
  {
   "attachments": {},
   "cell_type": "markdown",
   "metadata": {},
   "source": [
    "## set 操作\n",
    "\n",
    "### set 增加：\n",
    "\n",
    "add (elem)   在集合中增加一个元素，如果元素存在，什么都都不做，时间复杂度O(1)\n",
    "\n",
    "update(*others)   在集合中合并其它元素到set中来，参数必须是可迭代对象，直接修该set\n",
    "\n"
   ]
  },
  {
   "cell_type": "code",
   "execution_count": 44,
   "metadata": {},
   "outputs": [
    {
     "data": {
      "text/plain": [
       "{1, 2, 3, 4, 5, 6, 7, 8, 9}"
      ]
     },
     "execution_count": 44,
     "metadata": {},
     "output_type": "execute_result"
    }
   ],
   "source": [
    "set1 = set(range(1,10))\n",
    "set1"
   ]
  },
  {
   "attachments": {},
   "cell_type": "markdown",
   "metadata": {},
   "source": [
    "### set 删除：\n",
    "\n",
    "remove (elem)  从集合中移除一个元素，元素不存在，抛出KeyError异常。\n",
    "\n",
    "discard(elem)    从集合中移除一个元素，元素不存在，什么也不做。\n",
    "\n",
    "pop()   从集合中移除任意元素（由于不可索引），空集返回KeyError异常,测试时是首位元素\n",
    "\n",
    "clear()   移除所有元素\n"
   ]
  },
  {
   "cell_type": "code",
   "execution_count": 45,
   "metadata": {},
   "outputs": [
    {
     "data": {
      "text/plain": [
       "{1, 3, 4, 5, 6, 7, 8, 9}"
      ]
     },
     "execution_count": 45,
     "metadata": {},
     "output_type": "execute_result"
    }
   ],
   "source": [
    "set1.discard(2)\n",
    "set1"
   ]
  },
  {
   "cell_type": "code",
   "execution_count": 46,
   "metadata": {},
   "outputs": [
    {
     "data": {
      "text/plain": [
       "{3, 4, 5, 6, 7, 8, 9}"
      ]
     },
     "execution_count": 46,
     "metadata": {},
     "output_type": "execute_result"
    }
   ],
   "source": [
    "set1.pop()\n",
    "set1"
   ]
  },
  {
   "cell_type": "code",
   "execution_count": 47,
   "metadata": {},
   "outputs": [
    {
     "data": {
      "text/plain": [
       "set()"
      ]
     },
     "execution_count": 47,
     "metadata": {},
     "output_type": "execute_result"
    }
   ],
   "source": [
    "set1.clear()\n",
    "set1"
   ]
  },
  {
   "attachments": {},
   "cell_type": "markdown",
   "metadata": {},
   "source": [
    "### set 查找 in not in\n",
    "由于set是非线性数据结构，不可索引，所以set中元素无法修改，要么直接删除，要么加入新的元素。\n",
    "\n",
    "可以做成员运行：\n",
    "\n",
    "in 和not in   由于使用的是hash算法，时间复杂度为O（1）"
   ]
  },
  {
   "cell_type": "code",
   "execution_count": 48,
   "metadata": {},
   "outputs": [
    {
     "data": {
      "text/plain": [
       "(False, True, True)"
      ]
     },
     "execution_count": 48,
     "metadata": {},
     "output_type": "execute_result"
    }
   ],
   "source": [
    "set2 = set([1,2,3,4,5,6,7])\n",
    "set1 = set(range(1,10))\n",
    "\n",
    "8 in set2,8 in set1,8 not in set2"
   ]
  },
  {
   "attachments": {},
   "cell_type": "markdown",
   "metadata": {},
   "source": [
    "# dict 基础知识"
   ]
  },
  {
   "attachments": {},
   "cell_type": "markdown",
   "metadata": {},
   "source": [
    "dict是由key-value 键值对的组成的，可变的，无序的，key不重复的数据的集合\n"
   ]
  },
  {
   "cell_type": "code",
   "execution_count": 49,
   "metadata": {},
   "outputs": [
    {
     "data": {
      "text/plain": [
       "({}, {})"
      ]
     },
     "execution_count": 49,
     "metadata": {},
     "output_type": "execute_result"
    }
   ],
   "source": [
    "d1 = dict()   ##定义一个空字典\n",
    "d2= {}     # 定义一个空字典\n",
    "d1,d2"
   ]
  },
  {
   "attachments": {},
   "cell_type": "markdown",
   "metadata": {},
   "source": [
    "dict(** kwargs)  使用name= value 初始化一个字典"
   ]
  },
  {
   "cell_type": "code",
   "execution_count": 50,
   "metadata": {},
   "outputs": [
    {
     "data": {
      "text/plain": [
       "({'server': 'localhost',\n",
       "  'port': 3306,\n",
       "  'user': 'root',\n",
       "  'password': 'Py1hon!Xt'},\n",
       " {'x': 1, 'y': 2, 'z': 3},\n",
       " {'x': 4, 'y': 5})"
      ]
     },
     "execution_count": 50,
     "metadata": {},
     "output_type": "execute_result"
    }
   ],
   "source": [
    "d3 = dict(server='localhost', port=3306, user='root', password='Py1hon!Xt')\n",
    "d4 = dict(zip([\"x\",'y','z'],[1,2,3]))\n",
    "d5 = dict({'x': 4, 'y': 5})\n",
    "d3,d4,d5"
   ]
  },
  {
   "cell_type": "code",
   "execution_count": 51,
   "metadata": {},
   "outputs": [
    {
     "data": {
      "text/plain": [
       "{'x': 4, 'y': 5, 'z': 8}"
      ]
     },
     "execution_count": 51,
     "metadata": {},
     "output_type": "execute_result"
    }
   ],
   "source": [
    "numbers3 = dict({'x': 4, 'y': 5}, z=8)\n",
    "numbers3"
   ]
  },
  {
   "attachments": {},
   "cell_type": "markdown",
   "metadata": {},
   "source": [
    "类方法dict.fromkeys(iteranble,value)"
   ]
  },
  {
   "cell_type": "code",
   "execution_count": 52,
   "metadata": {},
   "outputs": [
    {
     "data": {
      "text/plain": [
       "{'x': None, 'y': None, 'z': None}"
      ]
     },
     "execution_count": 52,
     "metadata": {},
     "output_type": "execute_result"
    }
   ],
   "source": [
    "d4 = dict(zip([\"x\",'y','z'],[1,2,3]))\n",
    "dict.fromkeys(d4)"
   ]
  },
  {
   "attachments": {},
   "cell_type": "markdown",
   "metadata": {},
   "source": [
    "## dict 的方法：\n",
    "\n",
    "### 字典元素的访问\n",
    "\n",
    "d[key]  返回key对应的值value,key不存在抛出KeyError异常\n",
    "\n",
    "get(key[,default])  返回key对应的值value,key不存在返回缺省值，如果没有缺省值返回None\n",
    "\n",
    "setdefault(key,[,default]) 返回key对应的值value ,key不存在，添加kv 对，value设置为默认的给定的值，并返回默认值，如果默认值没有设置，缺省为None"
   ]
  },
  {
   "cell_type": "code",
   "execution_count": 53,
   "metadata": {},
   "outputs": [
    {
     "data": {
      "text/plain": [
       "({1: 'x', 2: 'y', 3: 'z', 4: '4不存在添加了这个字符串'},\n",
       " '不存在',\n",
       " 'z',\n",
       " '4不存在添加了这个字符串',\n",
       " '4不存在添加了这个字符串',\n",
       " {1: 'x', 2: 'y', 3: 'z', 4: '4不存在添加了这个字符串'})"
      ]
     },
     "execution_count": 53,
     "metadata": {},
     "output_type": "execute_result"
    }
   ],
   "source": [
    "d1 = dict(zip([1,2,3],['x','y','z']))\n",
    "d1,d1.get(4,'不存在'),d1.setdefault(3),d1.setdefault(4,'4不存在添加了这个字符串'),d1.get(4,'不存在'),d1"
   ]
  },
  {
   "attachments": {},
   "cell_type": "markdown",
   "metadata": {},
   "source": [
    "\n",
    "### dict 增加\n",
    "\n",
    "d[key] =value   将key对应的值修改为value ,Key不存在添加新的kv对\n",
    "\n",
    "update([other])   返回空，\n",
    "\n",
    "使用另一个字典的kv对更新字典，key不存在就添加\n",
    "\n",
    "key存在，覆盖key对应的value。直接修改原字典。"
   ]
  },
  {
   "cell_type": "code",
   "execution_count": 54,
   "metadata": {},
   "outputs": [
    {
     "data": {
      "text/plain": [
       "{1: 'mengxianchi', 2: 'litong', 3: 'hansuyan', 4: 'lijia_'}"
      ]
     },
     "execution_count": 54,
     "metadata": {},
     "output_type": "execute_result"
    }
   ],
   "source": [
    "d = dict(zip([1,2,3],['mengxianchi','litong','lijia']))\n",
    "d[3] = 'hansuyan'\n",
    "d[4] = 'lijia'\n",
    "d.update({4:'lijia_'})\n",
    "d"
   ]
  },
  {
   "attachments": {},
   "cell_type": "markdown",
   "metadata": {},
   "source": [
    "### dict 删除\n",
    "\n",
    "pop(key[,default])  key存在，移除它，并返回他的value,不存在，返回给定的默认值，默认值未设定，key不存在则抛出KeyError异常。\n",
    "\n",
    "popitem() 移除并返回一个任意的键值对，字典为empty,抛出KeyError异常\n",
    "\n",
    "clear（）  清除字典\n",
    "\n",
    "del 语句， 删除的是对象的引用，名称，而不是对象本身。只是减少对象的引用计数"
   ]
  },
  {
   "cell_type": "code",
   "execution_count": 55,
   "metadata": {},
   "outputs": [
    {
     "data": {
      "text/plain": [
       "('mengxianchi', '大帅哥', None, {})"
      ]
     },
     "execution_count": 55,
     "metadata": {},
     "output_type": "execute_result"
    }
   ],
   "source": [
    "d = dict(zip([1,2,3],['mengxianchi','litong','lijia']))\n",
    "d.pop(1,'大帅哥'),d.pop(1,'大帅哥'),d.clear(),d"
   ]
  },
  {
   "cell_type": "code",
   "execution_count": 56,
   "metadata": {},
   "outputs": [
    {
     "data": {
      "text/plain": [
       "{2: 'litong', 3: 'lijia'}"
      ]
     },
     "execution_count": 56,
     "metadata": {},
     "output_type": "execute_result"
    }
   ],
   "source": [
    "d = dict(zip([1,2,3],['mengxianchi','litong','lijia']))\n",
    "del d[1]\n",
    "d"
   ]
  },
  {
   "attachments": {},
   "cell_type": "markdown",
   "metadata": {},
   "source": [
    "### 遍历\n",
    "字典的遍历方法有：\n",
    "\n",
    "遍历key   、  遍历 value     、遍历（key 、value）     、  遍历item"
   ]
  },
  {
   "cell_type": "code",
   "execution_count": 57,
   "metadata": {},
   "outputs": [
    {
     "data": {
      "text/plain": [
       "(dict_keys([1, 2, 3]),\n",
       " dict_values(['mengxianchi', 'litong', 'lijia']),\n",
       " dict_items([(1, 'mengxianchi'), (2, 'litong'), (3, 'lijia')]))"
      ]
     },
     "execution_count": 57,
     "metadata": {},
     "output_type": "execute_result"
    }
   ],
   "source": [
    "d = dict(zip([1,2,3],['mengxianchi','litong','lijia']))\n",
    "d.keys(),d.values(),d.items()"
   ]
  },
  {
   "attachments": {},
   "cell_type": "markdown",
   "metadata": {},
   "source": [
    "\n",
    "\n",
    "\n",
    "\n",
    "\n",
    "set和dict的区别：\n",
    "\n",
    "set 和dict的区别是，set没有value，set和dict的原理是一样，字典的key和set的元素都是不能放入可变的对象，可变对象是不能判断两个是否相等，也就无法保证元素不重复。\n",
    "\n",
    "dict和list的比较\n",
    "\n",
    "dct的特点：\n",
    "\n",
    "查找和插入数据速度极快，不会随着数据的增加而变慢，需要占用大量的内存，内存浪费比多。\n",
    "\n",
    "list的特点：\n",
    "\n",
    "查找和插入的时间对着元素的增加而增加，需要占用大量的内存，内存浪费比较少。"
   ]
  },
  {
   "attachments": {},
   "cell_type": "markdown",
   "metadata": {},
   "source": [
    "# 242 有效字母异位词语\n",
    "给定两个字符串 s 和 t ，编写一个函数来判断 t 是否是 s 的字母异位词。\n",
    "\n",
    "注意：若 s 和 t 中每个字符出现的次数都相同，则称 s 和 t 互为字母异位词。"
   ]
  },
  {
   "cell_type": "code",
   "execution_count": 61,
   "metadata": {},
   "outputs": [
    {
     "data": {
      "text/plain": [
       "False"
      ]
     },
     "execution_count": 61,
     "metadata": {},
     "output_type": "execute_result"
    }
   ],
   "source": [
    "class Solution:\n",
    "    def isAnagram(self, s: str, t: str) -> bool:\n",
    "        ans = [0 for i in range(26)]\n",
    "        for i in s:\n",
    "            ans[ord(i)-ord('a')]+=1\n",
    "        for i in t:\n",
    "            ans[ord(i)-ord('a')]-=1\n",
    "        for i in ans:\n",
    "            if i!=0:\n",
    "                return False\n",
    "        return True\n",
    "so = Solution()\n",
    "s = \"anagram\"\n",
    "t = \"nagaram\"\n",
    "so.isAnagram(s,t)\n",
    "\n",
    "        "
   ]
  },
  {
   "attachments": {},
   "cell_type": "markdown",
   "metadata": {},
   "source": [
    "# 349. 两个数组的交集\n",
    "给定两个数组 nums1 和 nums2 \n",
    "\n",
    "返回 它们的交集 。\n",
    "\n",
    "输出结果中的每个元素一定是 唯一 的。我们可以 不考虑输出结果的顺序 。\n",
    "\n"
   ]
  },
  {
   "cell_type": "code",
   "execution_count": 5,
   "metadata": {},
   "outputs": [
    {
     "data": {
      "text/plain": [
       "[8, 9, 4]"
      ]
     },
     "execution_count": 5,
     "metadata": {},
     "output_type": "execute_result"
    }
   ],
   "source": [
    "class Solution:\n",
    "    def intersection(self, nums1, nums2):\n",
    "        nums1_set = set(nums1)\n",
    "        result = set()\n",
    "        for i in nums2:\n",
    "            if i in nums1_set:\n",
    "                result.add(i)\n",
    "        return list(result)\n",
    "\n",
    "so = Solution()\n",
    "nums1 = [4,9,9,5,8]\n",
    "nums2 = [9,4,9,8,4]\n",
    "so.intersection(nums1,nums2)"
   ]
  },
  {
   "attachments": {},
   "cell_type": "markdown",
   "metadata": {},
   "source": [
    "# 1. 两数之和\n",
    "\n",
    "给定一个整数数组 nums 和一个整数目标值 target，请你在该数组中找出 和为目标值 target  的那 两个 整数，并返回它们的数组下标。\n",
    "\n",
    "你可以假设每种输入只会对应一个答案。但是，数组中同一个元素在答案里不能重复出现。\n",
    "\n",
    "你可以按任意顺序返回答案。\n",
    "\n",
    "## 两数之和 set"
   ]
  },
  {
   "cell_type": "code",
   "execution_count": 11,
   "metadata": {},
   "outputs": [
    {
     "data": {
      "text/plain": [
       "(0, 1)"
      ]
     },
     "execution_count": 11,
     "metadata": {},
     "output_type": "execute_result"
    }
   ],
   "source": [
    "class Solution:\n",
    "    def twoSum(self, nums,target):\n",
    "        nums_set = set(nums)\n",
    "        for i in range(len(nums)):\n",
    "            if target -nums[i] in nums_set:\n",
    "                for j in range(len(nums)):\n",
    "                    if j!= i and nums[j] == target - nums[i]:\n",
    "                        return i,j\n",
    "        return False\n",
    "so = Solution()\n",
    "nums = [2,7,11,15]   \n",
    "target = 9\n",
    "so.twoSum( nums,target)    \n"
   ]
  },
  {
   "attachments": {},
   "cell_type": "markdown",
   "metadata": {},
   "source": [
    "## 两数之和 set"
   ]
  },
  {
   "cell_type": "code",
   "execution_count": 21,
   "metadata": {},
   "outputs": [
    {
     "data": {
      "text/plain": [
       "(1, 2)"
      ]
     },
     "execution_count": 21,
     "metadata": {},
     "output_type": "execute_result"
    }
   ],
   "source": [
    "class Solution:\n",
    "    def twoSum(self, nums,target):\n",
    "        diction = dict()\n",
    "        for i in range(len(nums)):\n",
    "            if nums[i] not in diction.keys():\n",
    "                diction[nums[i]] = [i]\n",
    "            else:\n",
    "                diction[nums[i]].append(i)\n",
    "        for i in range(len(nums)):\n",
    "            if target -nums[i] in diction.keys() :\n",
    "                for j in range(len(diction[nums[i]])):\n",
    "                    k = nums[diction[target -nums[i]][j]]+nums[i]==target\n",
    "                    if i!=diction[target -nums[i]][j] and k :\n",
    "                        return i,diction[target -nums[i]][j]\n",
    "                    \n",
    "        return False\n",
    "so = Solution()\n",
    "nums = [3,2,4]\n",
    "target = 6\n",
    "so.twoSum(nums,target) "
   ]
  },
  {
   "attachments": {},
   "cell_type": "markdown",
   "metadata": {},
   "source": [
    "# 15. 三数之和\n",
    "给你一个整数数组 nums ，判断是否存在三元组 [nums[i], nums[j], nums[k]] 满足 i != j、i != k 且 j != k ，同时还满足 nums[i] + nums[j] + nums[k] == 0 。请\n",
    "\n",
    "你返回所有和为 0 且不重复的三元组。\n",
    "\n",
    "注意：答案中不可以包含重复的三元组。"
   ]
  },
  {
   "cell_type": "code",
   "execution_count": 19,
   "metadata": {},
   "outputs": [
    {
     "data": {
      "text/plain": [
       "[[-3, 0, 3], [-2, 0, 2], [0, 0, 0]]"
      ]
     },
     "execution_count": 19,
     "metadata": {},
     "output_type": "execute_result"
    }
   ],
   "source": [
    "class Solution:\n",
    "    def num_2_dict(self,nums):\n",
    "        diction = dict()\n",
    "        for i in range(len(nums)):\n",
    "            if nums[i] not in diction.keys():\n",
    "                diction[nums[i]] = [i]\n",
    "            else:\n",
    "                diction[nums[i]].append(i)\n",
    "        return diction\n",
    "    def threeSum(self, nums):\n",
    "        result = []\n",
    "        # 两数之和的可能性\n",
    "        num_1_dict = self.num_2_dict(nums)\n",
    "        dict_2sum = {}\n",
    "        for left in range(len(nums)-1):\n",
    "            for right in range(left+1,len(nums)):\n",
    "                sum = nums[left]+nums[right]\n",
    "                if sum not in dict_2sum.keys():\n",
    "                    k = [left,right]\n",
    "                    k.sort()\n",
    "                    dict_2sum[sum] = [k]\n",
    "                else:\n",
    "                    k = [left,right]\n",
    "                    k.sort()\n",
    "                    if k not in dict_2sum[sum]:\n",
    "                        dict_2sum[sum].append(k)\n",
    "                if -sum in num_1_dict.keys():\n",
    "                    for i in num_1_dict[-sum]:\n",
    "                        if left == i or right == i:\n",
    "                            continue\n",
    "                        else:\n",
    "                            k = [nums[left],nums[right],nums[i]]\n",
    "                            k.sort()\n",
    "                            if k not in result:\n",
    "                                result.append(k)\n",
    "        return result\n",
    "\n",
    "\n",
    "\n",
    "so = Solution()\n",
    "nums = [3,2,0,-2,-3,0,0]\n",
    "so.threeSum(nums) "
   ]
  },
  {
   "attachments": {},
   "cell_type": "markdown",
   "metadata": {},
   "source": [
    "# 15. 三数之和-双指针\n",
    "给你一个整数数组 nums ，判断是否存在三元组 [nums[i], nums[j], nums[k]] 满足 i != j、i != k 且 j != k ，同时还满足 nums[i] + nums[j] + nums[k] == 0 。请\n",
    "\n",
    "你返回所有和为 0 且不重复的三元组。\n",
    "\n",
    "注意：答案中不可以包含重复的三元组。"
   ]
  },
  {
   "cell_type": "code",
   "execution_count": null,
   "metadata": {},
   "outputs": [],
   "source": [
    "class Solution:\n",
    "    def threeSum(self, nums):\n",
    "        left = 0\n",
    "        right = 0\n",
    "        return result\n",
    "\n",
    "\n",
    "\n",
    "so = Solution()\n",
    "nums = [3,2,0,-2,-3,0,0]\n",
    "so.threeSum(nums) "
   ]
  },
  {
   "attachments": {},
   "cell_type": "markdown",
   "metadata": {},
   "source": [
    "# 454. 四数相加 II\n",
    "给你四个整数数组 nums1、nums2、nums3 和 nums4 ，\n",
    "\n",
    "数组长度都是 n ，\n",
    "\n",
    "请你计算有多少个元组 (i, j, k, l) 能满足：\n",
    "\n",
    "nums1[i] + nums2[j] + nums3[k] + nums4[l] == 0"
   ]
  },
  {
   "cell_type": "code",
   "execution_count": 4,
   "metadata": {},
   "outputs": [
    {
     "data": {
      "text/plain": [
       "6"
      ]
     },
     "execution_count": 4,
     "metadata": {},
     "output_type": "execute_result"
    }
   ],
   "source": [
    "class Solution:\n",
    "    def fourSumCount(self, nums1, nums2, nums3, nums4): \n",
    "        n = 0\n",
    "        dict_ab = {}\n",
    "        for a in range(len(nums1)):\n",
    "            for b in range(len(nums2)):\n",
    "                if nums1[a]+nums2[b] in dict_ab.keys():\n",
    "                    dict_ab[nums1[a]+nums2[b]]+=1\n",
    "                elif nums1[a]+nums2[b] not in dict_ab.keys():\n",
    "                    dict_ab[nums1[a]+nums2[b]] = 1\n",
    "        dict_cd = {}\n",
    "        for a in range(len(nums3)):\n",
    "            for b in range(len(nums4)):\n",
    "                if nums3[a]+nums4[b] in dict_cd.keys():\n",
    "                    dict_cd[nums3[a]+nums4[b]]+=1    \n",
    "                elif nums3[a]+nums4[b] not in dict_cd.keys():\n",
    "                    dict_cd[nums3[a]+nums4[b]] = 1        \n",
    "        for i in dict_ab.keys():\n",
    "            for j in dict_cd.keys():\n",
    "                if i+j==0:\n",
    "                    n+=dict_ab[i]*dict_cd[j]\n",
    "        return n\n",
    "so = Solution()\n",
    "nums1 = [-1,1]\n",
    "nums2 = [-1,1]\n",
    "nums3 = [-1,1]\n",
    "nums4 = [1,-1]\n",
    "so.fourSumCount(nums1, nums2, nums3, nums4)"
   ]
  },
  {
   "cell_type": "code",
   "execution_count": 5,
   "metadata": {},
   "outputs": [
    {
     "data": {
      "text/plain": [
       "112"
      ]
     },
     "execution_count": 5,
     "metadata": {},
     "output_type": "execute_result"
    }
   ],
   "source": [
    "224//2"
   ]
  },
  {
   "cell_type": "code",
   "execution_count": null,
   "metadata": {},
   "outputs": [],
   "source": []
  }
 ],
 "metadata": {
  "kernelspec": {
   "display_name": "mengxc",
   "language": "python",
   "name": "python3"
  },
  "language_info": {
   "codemirror_mode": {
    "name": "ipython",
    "version": 3
   },
   "file_extension": ".py",
   "mimetype": "text/x-python",
   "name": "python",
   "nbconvert_exporter": "python",
   "pygments_lexer": "ipython3",
   "version": "3.9.17"
  },
  "orig_nbformat": 4,
  "vscode": {
   "interpreter": {
    "hash": "237a8e957531186922a7291d643b6ae4a6ac5d6ec607c8097672c724033f84ca"
   }
  }
 },
 "nbformat": 4,
 "nbformat_minor": 2
}
