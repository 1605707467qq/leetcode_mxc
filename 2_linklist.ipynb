{
 "cells": [
  {
   "attachments": {},
   "cell_type": "markdown",
   "metadata": {},
   "source": [
    "# 创建一个链表类实现6个接口"
   ]
  },
  {
   "cell_type": "code",
   "execution_count": 1,
   "metadata": {},
   "outputs": [
    {
     "name": "stdout",
     "output_type": "stream",
     "text": [
      "0\n",
      "1\n",
      "2\n",
      "3\n",
      "4\n",
      "5\n",
      "6\n"
     ]
    }
   ],
   "source": [
    "class ListNode:\n",
    "    def __init__(self,val=0,next=None):\n",
    "        self.val = val\n",
    "        self.next = next\n",
    "class LinkedList:\n",
    "    def __init__(self):\n",
    "        self.head = None\n",
    "    def create_linklist(self,data):\n",
    "        self.head = ListNode(0)\n",
    "        cur = self.head\n",
    "        for i in range(len(data)):\n",
    "            node = ListNode(data[i])\n",
    "            cur.next = node\n",
    "            cur = cur.next\n",
    "    # 1 获取第index的节点的数值\n",
    "    def get_index(self,n):\n",
    "        cur  = self.head.next\n",
    "        while n>=0 and cur:\n",
    "            cur = cur.next\n",
    "            n-=1\n",
    "        print(cur.val)\n",
    "    # 2 在链表的最后插入一个节点\n",
    "    def input_end(self,val):\n",
    "        node = ListNode(val)\n",
    "        cur = self.head.next\n",
    "        while cur.next:\n",
    "            cur = cur.next\n",
    "        cur.next = node\n",
    "    # 3 在链表的最前插入一个节点\n",
    "    def input_start(self,val):\n",
    "        node = ListNode(val)\n",
    "        node.next = self.head.next\n",
    "        self.head.next = node\n",
    "    # 4 在链表的index前面插入一个节点\n",
    "    def insert_loc(self,loc,val):\n",
    "        node = ListNode(val)\n",
    "        cur = self.head\n",
    "        while loc>0:\n",
    "            cur = cur.next\n",
    "            loc-=1\n",
    "        node.next = cur.next\n",
    "        cur.next = node\n",
    "    # 5 删除链表的第index节点\n",
    "    def del_index(self,index):\n",
    "        cur = self.head\n",
    "        while index>0 and cur.next:\n",
    "            cur = cur.next\n",
    "            index-=1\n",
    "        cur.next = cur.next.next\n",
    "    # 6 打印当前链表\n",
    "    def travel(self):\n",
    "        n = 10\n",
    "        cur = self.head.next\n",
    "        while cur:\n",
    "            n-=1\n",
    "            print(cur.val)\n",
    "            cur = cur.next\n",
    "            if n<0:\n",
    "                break\n",
    "data = [0,1,2,3,4,5,6]\n",
    "my_list = LinkedList()\n",
    "my_list.create_linklist(data)\n",
    "# my_list.input_end(100)\n",
    "# my_list.input_start(200)\n",
    "# my_list.del_index(2)\n",
    "# my_list.insert_loc(2,300)\n",
    "my_list.travel()\n"
   ]
  },
  {
   "attachments": {},
   "cell_type": "markdown",
   "metadata": {},
   "source": [
    "# 链表\n",
    "\n",
    "## 链表的数据结构\n",
    "\n",
    "虚拟头节点 head\n",
    "\n",
    "## 节点的数据结构\n",
    "\n",
    "数值 val\n",
    "\n",
    "指针 next"
   ]
  },
  {
   "cell_type": "code",
   "execution_count": null,
   "metadata": {},
   "outputs": [],
   "source": [
    "# class ListNode:\n",
    "#     def __init__(self,val=0,next=None):\n",
    "#         self.val = val\n",
    "#         self.next = next\n",
    "# class LinkedList:\n",
    "#     def __init__(self):\n",
    "#         self.head = None\n",
    "#     def create_linklist(self,data):\n",
    "#         self.head = ListNode(0)\n",
    "#         cur = self.head\n",
    "#         for i in range(len(data)):\n",
    "#             node = ListNode(data[i])\n",
    "#             cur.next = node\n",
    "#             cur = cur.next\n",
    "            \n",
    "\n",
    "    "
   ]
  },
  {
   "attachments": {},
   "cell_type": "markdown",
   "metadata": {},
   "source": [
    "## 创建一个链表"
   ]
  },
  {
   "cell_type": "code",
   "execution_count": null,
   "metadata": {},
   "outputs": [],
   "source": [
    "link = LinkedList()\n",
    "data = [3,3,3,0,1,3,3,2,3]\n",
    "link.create_linklist(data)\n"
   ]
  },
  {
   "attachments": {},
   "cell_type": "markdown",
   "metadata": {},
   "source": [
    "# 遍历链表"
   ]
  },
  {
   "cell_type": "code",
   "execution_count": null,
   "metadata": {},
   "outputs": [],
   "source": [
    "def travel(link):\n",
    "    cur = link.head.next\n",
    "    while cur:\n",
    "        print(cur.val)\n",
    "        cur = cur.next\n",
    "travel(link)"
   ]
  },
  {
   "attachments": {},
   "cell_type": "markdown",
   "metadata": {},
   "source": [
    "# 删除数值节点"
   ]
  },
  {
   "cell_type": "code",
   "execution_count": null,
   "metadata": {},
   "outputs": [],
   "source": [
    "link = LinkedList()\n",
    "data = [3,3,3,0,1,3,3,2,3,4,5,4,3]\n",
    "link.create_linklist(data)\n",
    "def del_num(link,k):\n",
    "    while link.head.next.val==k:\n",
    "        link.head = link.head.next\n",
    "    cur = link.head.next\n",
    "    while cur and cur.next:\n",
    "        # print(cur.val)\n",
    "        if cur.next.val==k:\n",
    "            cur.next = cur.next.next\n",
    "            continue\n",
    "            \n",
    "        cur = cur.next\n",
    "    return link\n",
    "\n",
    "travel(del_num(link,3))"
   ]
  },
  {
   "cell_type": "code",
   "execution_count": null,
   "metadata": {},
   "outputs": [],
   "source": [
    "travel(link)"
   ]
  },
  {
   "attachments": {},
   "cell_type": "markdown",
   "metadata": {},
   "source": [
    "# 反转链表\n",
    "N->A->B->C\n",
    "\n",
    "temp_left.next = N\n",
    "\n",
    "temp_right.next = C\n",
    "\n",
    "right.next.next = left.next\n",
    "\n",
    "left.next = temp.next\n",
    "\n",
    "temo_legt.next.next = "
   ]
  },
  {
   "cell_type": "code",
   "execution_count": 3,
   "metadata": {},
   "outputs": [
    {
     "name": "stdout",
     "output_type": "stream",
     "text": [
      "6\n",
      "5\n",
      "4\n",
      "3\n",
      "2\n",
      "1\n",
      "0\n"
     ]
    }
   ],
   "source": [
    "data = [0,1,2,3,4,5,6]\n",
    "my_list = LinkedList()\n",
    "my_list.create_linklist(data)\n",
    "def reverse(my_list):\n",
    "    pre =my_list.head.next\n",
    "    cur = pre.next\n",
    "    pre.next = None\n",
    "    while cur:\n",
    "        temp = cur.next\n",
    "        cur.next = pre\n",
    "        my_list.head.next = cur\n",
    "        pre = cur\n",
    "        cur = temp\n",
    "reverse(my_list)\n",
    "my_list.travel()"
   ]
  },
  {
   "cell_type": "code",
   "execution_count": 8,
   "metadata": {},
   "outputs": [
    {
     "name": "stdout",
     "output_type": "stream",
     "text": [
      "6\n",
      "5\n",
      "4\n",
      "3\n",
      "2\n",
      "1\n",
      "0\n"
     ]
    }
   ],
   "source": [
    "data = [0,1,2,3,4,5,6]\n",
    "link = LinkedList()\n",
    "link.create_linklist(data)\n",
    "def reverse(link):\n",
    "    pre = link.head\n",
    "    pro = link.head.next\n",
    "    pre.next=None\n",
    "    while pro:\n",
    "        temp = pro.next\n",
    "        pro.next = pre.next\n",
    "        pre.next = pro\n",
    "        pro = temp\n",
    "reverse(link)\n",
    "link.travel()\n"
   ]
  },
  {
   "attachments": {},
   "cell_type": "markdown",
   "metadata": {},
   "source": [
    "# 制定索引区间reverse"
   ]
  },
  {
   "cell_type": "code",
   "execution_count": 3,
   "metadata": {},
   "outputs": [],
   "source": [
    "def reverse_left_right(my_list,left,right):\n",
    "    cur = my_list.head\n",
    "    right = right-left\n",
    "    while left>0:\n",
    "        left-=1\n",
    "        cur = cur.next\n",
    "    head = LinkedList()\n",
    "    head.head = cur\n",
    "    while cur and right>0:\n",
    "        cur = cur.next\n",
    "        right-=1\n",
    "    temp = cur.next\n",
    "    cur.next = None\n",
    "    reverse(head)\n",
    "    cur = head.head\n",
    "    while cur.next:\n",
    "        cur = cur.next\n",
    "    cur.next = temp\n",
    "# reverse_left_right(my_list,1,4)  \n",
    "my_list.travel()"
   ]
  },
  {
   "attachments": {},
   "cell_type": "markdown",
   "metadata": {},
   "source": [
    "# 删除倒数第n个节点"
   ]
  },
  {
   "cell_type": "code",
   "execution_count": 18,
   "metadata": {},
   "outputs": [
    {
     "name": "stdout",
     "output_type": "stream",
     "text": [
      "0\n",
      "1\n",
      "2\n",
      "3\n",
      "5\n",
      "6\n"
     ]
    }
   ],
   "source": [
    "def del_n_end(my_list,n):\n",
    "    left = my_list.head\n",
    "    right = my_list.head\n",
    "    while n>0:\n",
    "        # 向后走n步，保证left与right之间长度为n\n",
    "        right = right.next\n",
    "        n-=1\n",
    "    while right.next:\n",
    "        left = left.next\n",
    "        right = right.next\n",
    "    left.next = left.next.next\n",
    "del_n_end(my_list,3)\n",
    "my_list.travel()\n"
   ]
  },
  {
   "attachments": {},
   "cell_type": "markdown",
   "metadata": {},
   "source": [
    "# 链表中是否有环\n",
    "如果一个链表有环，返回进入环的第一个节点\n",
    "如果没环，返回false"
   ]
  },
  {
   "cell_type": "code",
   "execution_count": 30,
   "metadata": {},
   "outputs": [
    {
     "name": "stdout",
     "output_type": "stream",
     "text": [
      "[0, 1, 2, 3, 4]\n",
      "[1, 3, 5, 2, 4]\n"
     ]
    },
    {
     "data": {
      "text/plain": [
       "2"
      ]
     },
     "execution_count": 30,
     "metadata": {},
     "output_type": "execute_result"
    }
   ],
   "source": [
    "data = [0,1,2,3,4,5,6]\n",
    "my_list = LinkedList()\n",
    "my_list.create_linklist(data)\n",
    "cur = my_list.head\n",
    "while cur.next.next:\n",
    "    cur = cur.next\n",
    "cur.next.next = my_list.head.next.next.next\n",
    "def exist_roop(my_list):\n",
    "    left,right = my_list.head,my_list.head\n",
    "    left_list = []\n",
    "    right_list = []\n",
    "    while right and right.next:\n",
    "        left=left.next\n",
    "        right = right.next.next\n",
    "        left_list.append(left.val)\n",
    "        right_list.append(right.val)\n",
    "        if left==right:\n",
    "            print(left_list)\n",
    "            print(right_list)\n",
    "            left= my_list.head\n",
    "            n=0\n",
    "            while left !=right:\n",
    "                left =  left.next\n",
    "                right = right.next\n",
    "                n+=1\n",
    "            return left.val\n",
    "    return False\n",
    "exist_roop(my_list)"
   ]
  },
  {
   "cell_type": "code",
   "execution_count": null,
   "metadata": {},
   "outputs": [],
   "source": []
  },
  {
   "attachments": {},
   "cell_type": "markdown",
   "metadata": {},
   "source": [
    "# 牛客1\n",
    "给出一个长度为 n 的单链表和一个值 x ，要求小于 x 的节点全部在大于等于 x 的节点左侧，并且两个部分之内的节点之间与原来的链表要保持相对顺序不变。"
   ]
  },
  {
   "cell_type": "code",
   "execution_count": 13,
   "metadata": {},
   "outputs": [],
   "source": [
    "data = [4,1,0,5,6,2,3]\n",
    "# 0,1,2,4,5,6,3\n",
    "x = 2\n",
    "my_list = LinkedList()\n",
    "my_list.create_linklist(data)"
   ]
  },
  {
   "cell_type": "code",
   "execution_count": 14,
   "metadata": {},
   "outputs": [
    {
     "name": "stdout",
     "output_type": "stream",
     "text": [
      "1\n",
      "0\n",
      "2\n",
      "4\n",
      "5\n",
      "6\n",
      "3\n"
     ]
    }
   ],
   "source": [
    "def left_right(my_list,x):\n",
    "    head = ListNode(0)\n",
    "    pre = head\n",
    "    cur = my_list.head.next\n",
    "    while cur :\n",
    "        if cur.val<x:\n",
    "            k = ListNode(cur.val)\n",
    "            pre.next =k\n",
    "            pre = k\n",
    "        cur = cur.next\n",
    "    k = ListNode(x)\n",
    "    pre.next =k\n",
    "    pre = k\n",
    "    cur = my_list.head.next\n",
    "    while cur:\n",
    "        if cur.val>x:\n",
    "            k = ListNode(cur.val)\n",
    "            pre.next =k\n",
    "            pre = k\n",
    "        cur = cur.next\n",
    "    my_list.head.next = head.next\n",
    "left_right(my_list,x) \n",
    "my_list.travel()"
   ]
  }
 ],
 "metadata": {
  "kernelspec": {
   "display_name": "mengxc",
   "language": "python",
   "name": "python3"
  },
  "language_info": {
   "codemirror_mode": {
    "name": "ipython",
    "version": 3
   },
   "file_extension": ".py",
   "mimetype": "text/x-python",
   "name": "python",
   "nbconvert_exporter": "python",
   "pygments_lexer": "ipython3",
   "version": "3.9.17"
  },
  "orig_nbformat": 4,
  "vscode": {
   "interpreter": {
    "hash": "237a8e957531186922a7291d643b6ae4a6ac5d6ec607c8097672c724033f84ca"
   }
  }
 },
 "nbformat": 4,
 "nbformat_minor": 2
}
